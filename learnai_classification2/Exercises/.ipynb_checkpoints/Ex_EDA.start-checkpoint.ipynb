{
 "cells": [
  {
   "cell_type": "markdown",
   "metadata": {},
   "source": [
    "# Classification 2\n",
    "\n",
    "## Exercise 1: Exploratory Data Analysis\n",
    "\n",
    "### Overview\n",
    "\n",
    "The objective of this course is to build models to predict customer churn for a fictitious telco company. Before we start creating models, let's begin by having a closer look at our data and doing some basic data wrangling.\n",
    "\n",
    "Go through this notebook and modify the code accordingly (i.e. #TASK) based on the text and/or the comments.\n",
    "\n",
    "### Data\n",
    "Download data from here:\n",
    "https://public.dhe.ibm.com/software/data/sw-library/cognos/mobile/C11/data/Telco_customer_churn.xlsx\n",
    "\n",
    "Description of data (for a newer version)\n",
    "https://community.ibm.com/community/user/businessanalytics/blogs/steven-macko/2019/07/11/telco-customer-churn-1113\n",
    "\n",
    "### Importing Libraries"
   ]
  },
  {
   "cell_type": "code",
   "execution_count": 1,
   "metadata": {},
   "outputs": [],
   "source": [
    "import numpy as np\n",
    "import pandas as pd \n",
    "\n",
    "# TASK: Import visualization libraries, matplotlib and seaborn using standard aliases plt and sns respectively"
   ]
  },
  {
   "cell_type": "markdown",
   "metadata": {},
   "source": [
    "### Reading in the Data"
   ]
  },
  {
   "cell_type": "code",
   "execution_count": 3,
   "metadata": {},
   "outputs": [],
   "source": [
    "# TASK: Read in the Excel file. Use the parameter na_values=\" \" to convert any empty cells to a NA value.\n",
    "# You may also need to use parameter engine='openpyxl') in newer versions of pandas if you encounter an XLRD error.\n",
    "data = pd.read_excel(\"./Telco_customer_churn.xlsx\", na_values= \" \") # TASK: Use pandas to read in an Excel file. "
   ]
  },
  {
   "cell_type": "code",
   "execution_count": 4,
   "metadata": {},
   "outputs": [],
   "source": [
    "# Define columns to keep and filter the original dataset\n",
    "cols_to_keep = ['CustomerID', 'Gender', 'Senior Citizen', 'Partner', 'Dependents', 'Tenure Months', 'Phone Service', 'Multiple Lines', 'Internet Service', 'Online Security', 'Online Backup', 'Device Protection', 'Tech Support', 'Streaming TV', 'Streaming Movies', 'Contract', 'Paperless Billing', 'Payment Method', 'Monthly Charges', 'Total Charges', 'Churn Label']\n",
    "data = data[cols_to_keep]"
   ]
  },
  {
   "cell_type": "code",
   "execution_count": 8,
   "metadata": {},
   "outputs": [
    {
     "data": {
      "text/plain": [
       "Index(['CustomerID', 'Gender', 'SeniorCitizen', 'Partner', 'Dependents',\n",
       "       'TenureMonths', 'PhoneService', 'MultipleLines', 'InternetService',\n",
       "       'OnlineSecurity', 'OnlineBackup', 'DeviceProtection', 'TechSupport',\n",
       "       'StreamingTV', 'StreamingMovies', 'Contract', 'PaperlessBilling',\n",
       "       'PaymentMethod', 'MonthlyCharges', 'TotalCharges', 'ChurnLabel'],\n",
       "      dtype='object')"
      ]
     },
     "execution_count": 8,
     "metadata": {},
     "output_type": "execute_result"
    }
   ],
   "source": [
    "data.columns.str.replace(\" \", \"\")"
   ]
  },
  {
   "cell_type": "code",
   "execution_count": 9,
   "metadata": {},
   "outputs": [],
   "source": [
    "# TASK: Rename the multi-worded columns to remove the space \n",
    "# HINT: You can either manually remove the spaces in the column name list or use a loop to remove the space\n",
    "data.columns = data.columns.str.replace(\" \", \"\")"
   ]
  },
  {
   "cell_type": "markdown",
   "metadata": {},
   "source": [
    "### Basic Information"
   ]
  },
  {
   "cell_type": "code",
   "execution_count": 11,
   "metadata": {},
   "outputs": [
    {
     "name": "stdout",
     "output_type": "stream",
     "text": [
      "Rows & Columns: (7043, 21)\n"
     ]
    }
   ],
   "source": [
    "# TASK: Display the number of rows and columns for the dataset\n",
    "print(\"Rows & Columns: {}\".format(data.shape))"
   ]
  },
  {
   "cell_type": "code",
   "execution_count": 12,
   "metadata": {},
   "outputs": [
    {
     "data": {
      "text/plain": [
       "CustomerID           object\n",
       "Gender               object\n",
       "SeniorCitizen        object\n",
       "Partner              object\n",
       "Dependents           object\n",
       "TenureMonths          int64\n",
       "PhoneService         object\n",
       "MultipleLines        object\n",
       "InternetService      object\n",
       "OnlineSecurity       object\n",
       "OnlineBackup         object\n",
       "DeviceProtection     object\n",
       "TechSupport          object\n",
       "StreamingTV          object\n",
       "StreamingMovies      object\n",
       "Contract             object\n",
       "PaperlessBilling     object\n",
       "PaymentMethod        object\n",
       "MonthlyCharges      float64\n",
       "TotalCharges        float64\n",
       "ChurnLabel           object\n",
       "dtype: object"
      ]
     },
     "execution_count": 12,
     "metadata": {},
     "output_type": "execute_result"
    }
   ],
   "source": [
    "# TASK: Display the datatypes for the columns in the dataframe i.e. use the dtypes variable\n",
    "# How many columns are numerical and how many are non-numerical\n",
    "data.dtypes"
   ]
  },
  {
   "cell_type": "code",
   "execution_count": 13,
   "metadata": {},
   "outputs": [
    {
     "data": {
      "text/plain": [
       "CustomerID          7043\n",
       "Gender              7043\n",
       "SeniorCitizen       7043\n",
       "Partner             7043\n",
       "Dependents          7043\n",
       "TenureMonths        7043\n",
       "PhoneService        7043\n",
       "MultipleLines       7043\n",
       "InternetService     7043\n",
       "OnlineSecurity      7043\n",
       "OnlineBackup        7043\n",
       "DeviceProtection    7043\n",
       "TechSupport         7043\n",
       "StreamingTV         7043\n",
       "StreamingMovies     7043\n",
       "Contract            7043\n",
       "PaperlessBilling    7043\n",
       "PaymentMethod       7043\n",
       "MonthlyCharges      7043\n",
       "TotalCharges        7032\n",
       "ChurnLabel          7043\n",
       "dtype: int64"
      ]
     },
     "execution_count": 13,
     "metadata": {},
     "output_type": "execute_result"
    }
   ],
   "source": [
    "# TASK: use count() on the dataframe to count the number of entries for each of the column. Are there any columns with missing values?\n",
    "data.count()"
   ]
  },
  {
   "cell_type": "code",
   "execution_count": 14,
   "metadata": {},
   "outputs": [
    {
     "data": {
      "text/plain": [
       "CustomerID          7043\n",
       "Gender                 2\n",
       "SeniorCitizen          2\n",
       "Partner                2\n",
       "Dependents             2\n",
       "TenureMonths          73\n",
       "PhoneService           2\n",
       "MultipleLines          3\n",
       "InternetService        3\n",
       "OnlineSecurity         3\n",
       "OnlineBackup           3\n",
       "DeviceProtection       3\n",
       "TechSupport            3\n",
       "StreamingTV            3\n",
       "StreamingMovies        3\n",
       "Contract               3\n",
       "PaperlessBilling       2\n",
       "PaymentMethod          4\n",
       "MonthlyCharges      1585\n",
       "TotalCharges        6530\n",
       "ChurnLabel             2\n",
       "dtype: int64"
      ]
     },
     "execution_count": 14,
     "metadata": {},
     "output_type": "execute_result"
    }
   ],
   "source": [
    "# TASK: Use nunique() on the dataframe to count the number of unique values for each of the columns\n",
    "data.nunique()"
   ]
  },
  {
   "cell_type": "code",
   "execution_count": 15,
   "metadata": {},
   "outputs": [
    {
     "data": {
      "text/html": [
       "<div>\n",
       "<style scoped>\n",
       "    .dataframe tbody tr th:only-of-type {\n",
       "        vertical-align: middle;\n",
       "    }\n",
       "\n",
       "    .dataframe tbody tr th {\n",
       "        vertical-align: top;\n",
       "    }\n",
       "\n",
       "    .dataframe thead th {\n",
       "        text-align: right;\n",
       "    }\n",
       "</style>\n",
       "<table border=\"1\" class=\"dataframe\">\n",
       "  <thead>\n",
       "    <tr style=\"text-align: right;\">\n",
       "      <th></th>\n",
       "      <th>CustomerID</th>\n",
       "      <th>Gender</th>\n",
       "      <th>SeniorCitizen</th>\n",
       "      <th>Partner</th>\n",
       "      <th>Dependents</th>\n",
       "      <th>TenureMonths</th>\n",
       "      <th>PhoneService</th>\n",
       "      <th>MultipleLines</th>\n",
       "      <th>InternetService</th>\n",
       "      <th>OnlineSecurity</th>\n",
       "      <th>...</th>\n",
       "      <th>DeviceProtection</th>\n",
       "      <th>TechSupport</th>\n",
       "      <th>StreamingTV</th>\n",
       "      <th>StreamingMovies</th>\n",
       "      <th>Contract</th>\n",
       "      <th>PaperlessBilling</th>\n",
       "      <th>PaymentMethod</th>\n",
       "      <th>MonthlyCharges</th>\n",
       "      <th>TotalCharges</th>\n",
       "      <th>ChurnLabel</th>\n",
       "    </tr>\n",
       "  </thead>\n",
       "  <tbody>\n",
       "    <tr>\n",
       "      <th>0</th>\n",
       "      <td>3668-QPYBK</td>\n",
       "      <td>Male</td>\n",
       "      <td>No</td>\n",
       "      <td>No</td>\n",
       "      <td>No</td>\n",
       "      <td>2</td>\n",
       "      <td>Yes</td>\n",
       "      <td>No</td>\n",
       "      <td>DSL</td>\n",
       "      <td>Yes</td>\n",
       "      <td>...</td>\n",
       "      <td>No</td>\n",
       "      <td>No</td>\n",
       "      <td>No</td>\n",
       "      <td>No</td>\n",
       "      <td>Month-to-month</td>\n",
       "      <td>Yes</td>\n",
       "      <td>Mailed check</td>\n",
       "      <td>53.85</td>\n",
       "      <td>108.15</td>\n",
       "      <td>Yes</td>\n",
       "    </tr>\n",
       "    <tr>\n",
       "      <th>1</th>\n",
       "      <td>9237-HQITU</td>\n",
       "      <td>Female</td>\n",
       "      <td>No</td>\n",
       "      <td>No</td>\n",
       "      <td>Yes</td>\n",
       "      <td>2</td>\n",
       "      <td>Yes</td>\n",
       "      <td>No</td>\n",
       "      <td>Fiber optic</td>\n",
       "      <td>No</td>\n",
       "      <td>...</td>\n",
       "      <td>No</td>\n",
       "      <td>No</td>\n",
       "      <td>No</td>\n",
       "      <td>No</td>\n",
       "      <td>Month-to-month</td>\n",
       "      <td>Yes</td>\n",
       "      <td>Electronic check</td>\n",
       "      <td>70.70</td>\n",
       "      <td>151.65</td>\n",
       "      <td>Yes</td>\n",
       "    </tr>\n",
       "    <tr>\n",
       "      <th>2</th>\n",
       "      <td>9305-CDSKC</td>\n",
       "      <td>Female</td>\n",
       "      <td>No</td>\n",
       "      <td>No</td>\n",
       "      <td>Yes</td>\n",
       "      <td>8</td>\n",
       "      <td>Yes</td>\n",
       "      <td>Yes</td>\n",
       "      <td>Fiber optic</td>\n",
       "      <td>No</td>\n",
       "      <td>...</td>\n",
       "      <td>Yes</td>\n",
       "      <td>No</td>\n",
       "      <td>Yes</td>\n",
       "      <td>Yes</td>\n",
       "      <td>Month-to-month</td>\n",
       "      <td>Yes</td>\n",
       "      <td>Electronic check</td>\n",
       "      <td>99.65</td>\n",
       "      <td>820.50</td>\n",
       "      <td>Yes</td>\n",
       "    </tr>\n",
       "    <tr>\n",
       "      <th>3</th>\n",
       "      <td>7892-POOKP</td>\n",
       "      <td>Female</td>\n",
       "      <td>No</td>\n",
       "      <td>Yes</td>\n",
       "      <td>Yes</td>\n",
       "      <td>28</td>\n",
       "      <td>Yes</td>\n",
       "      <td>Yes</td>\n",
       "      <td>Fiber optic</td>\n",
       "      <td>No</td>\n",
       "      <td>...</td>\n",
       "      <td>Yes</td>\n",
       "      <td>Yes</td>\n",
       "      <td>Yes</td>\n",
       "      <td>Yes</td>\n",
       "      <td>Month-to-month</td>\n",
       "      <td>Yes</td>\n",
       "      <td>Electronic check</td>\n",
       "      <td>104.80</td>\n",
       "      <td>3046.05</td>\n",
       "      <td>Yes</td>\n",
       "    </tr>\n",
       "    <tr>\n",
       "      <th>4</th>\n",
       "      <td>0280-XJGEX</td>\n",
       "      <td>Male</td>\n",
       "      <td>No</td>\n",
       "      <td>No</td>\n",
       "      <td>Yes</td>\n",
       "      <td>49</td>\n",
       "      <td>Yes</td>\n",
       "      <td>Yes</td>\n",
       "      <td>Fiber optic</td>\n",
       "      <td>No</td>\n",
       "      <td>...</td>\n",
       "      <td>Yes</td>\n",
       "      <td>No</td>\n",
       "      <td>Yes</td>\n",
       "      <td>Yes</td>\n",
       "      <td>Month-to-month</td>\n",
       "      <td>Yes</td>\n",
       "      <td>Bank transfer (automatic)</td>\n",
       "      <td>103.70</td>\n",
       "      <td>5036.30</td>\n",
       "      <td>Yes</td>\n",
       "    </tr>\n",
       "  </tbody>\n",
       "</table>\n",
       "<p>5 rows × 21 columns</p>\n",
       "</div>"
      ],
      "text/plain": [
       "   CustomerID  Gender SeniorCitizen Partner Dependents  TenureMonths  \\\n",
       "0  3668-QPYBK    Male            No      No         No             2   \n",
       "1  9237-HQITU  Female            No      No        Yes             2   \n",
       "2  9305-CDSKC  Female            No      No        Yes             8   \n",
       "3  7892-POOKP  Female            No     Yes        Yes            28   \n",
       "4  0280-XJGEX    Male            No      No        Yes            49   \n",
       "\n",
       "  PhoneService MultipleLines InternetService OnlineSecurity  ...  \\\n",
       "0          Yes            No             DSL            Yes  ...   \n",
       "1          Yes            No     Fiber optic             No  ...   \n",
       "2          Yes           Yes     Fiber optic             No  ...   \n",
       "3          Yes           Yes     Fiber optic             No  ...   \n",
       "4          Yes           Yes     Fiber optic             No  ...   \n",
       "\n",
       "  DeviceProtection TechSupport StreamingTV StreamingMovies        Contract  \\\n",
       "0               No          No          No              No  Month-to-month   \n",
       "1               No          No          No              No  Month-to-month   \n",
       "2              Yes          No         Yes             Yes  Month-to-month   \n",
       "3              Yes         Yes         Yes             Yes  Month-to-month   \n",
       "4              Yes          No         Yes             Yes  Month-to-month   \n",
       "\n",
       "  PaperlessBilling              PaymentMethod MonthlyCharges  TotalCharges  \\\n",
       "0              Yes               Mailed check          53.85        108.15   \n",
       "1              Yes           Electronic check          70.70        151.65   \n",
       "2              Yes           Electronic check          99.65        820.50   \n",
       "3              Yes           Electronic check         104.80       3046.05   \n",
       "4              Yes  Bank transfer (automatic)         103.70       5036.30   \n",
       "\n",
       "   ChurnLabel  \n",
       "0         Yes  \n",
       "1         Yes  \n",
       "2         Yes  \n",
       "3         Yes  \n",
       "4         Yes  \n",
       "\n",
       "[5 rows x 21 columns]"
      ]
     },
     "execution_count": 15,
     "metadata": {},
     "output_type": "execute_result"
    }
   ],
   "source": [
    "# TASK: Display first few values of the dataframe\n",
    "# Based on this and the previous display, how would you describe the columns with a small number (less than 10) of unique values?\n",
    "data.head()"
   ]
  },
  {
   "cell_type": "code",
   "execution_count": 19,
   "metadata": {},
   "outputs": [
    {
     "name": "stdout",
     "output_type": "stream",
     "text": [
      "Gender: ['Male' 'Female']\n",
      "SeniorCitizen: ['No' 'Yes']\n",
      "Partner: ['No' 'Yes']\n",
      "Dependents: ['No' 'Yes']\n",
      "PhoneService: ['Yes' 'No']\n",
      "MultipleLines: ['No' 'Yes' 'No phone service']\n",
      "InternetService: ['DSL' 'Fiber optic' 'No']\n",
      "OnlineSecurity: ['Yes' 'No' 'No internet service']\n",
      "OnlineBackup: ['Yes' 'No' 'No internet service']\n",
      "DeviceProtection: ['No' 'Yes' 'No internet service']\n",
      "TechSupport: ['No' 'Yes' 'No internet service']\n",
      "StreamingTV: ['No' 'Yes' 'No internet service']\n",
      "StreamingMovies: ['No' 'Yes' 'No internet service']\n",
      "Contract: ['Month-to-month' 'Two year' 'One year']\n",
      "PaperlessBilling: ['Yes' 'No']\n",
      "PaymentMethod: ['Mailed check' 'Electronic check' 'Bank transfer (automatic)'\n",
      " 'Credit card (automatic)']\n",
      "ChurnLabel: ['Yes' 'No']\n"
     ]
    }
   ],
   "source": [
    "# TASK: Let's analyze the values for the categorical features (columns with less than 10 unique values)\n",
    "for id, row in data.nunique().iteritems(): # this counts the number of unique values for each feature and returns the result as a dictionary\n",
    "    if(row < 10):\n",
    "        # TASK: Print out the unique values for the feature\n",
    "        print(f\"{id}: {data[id].unique()}\")"
   ]
  },
  {
   "cell_type": "code",
   "execution_count": 20,
   "metadata": {},
   "outputs": [
    {
     "name": "stdout",
     "output_type": "stream",
     "text": [
      "MultipleLines : ['No' 'No phone service' 'Yes']\n",
      "InternetService : ['DSL' 'Fiber optic' 'No']\n",
      "OnlineSecurity : ['No' 'No internet service' 'Yes']\n",
      "OnlineBackup : ['No' 'No internet service' 'Yes']\n",
      "DeviceProtection : ['No' 'No internet service' 'Yes']\n",
      "TechSupport : ['No' 'No internet service' 'Yes']\n",
      "StreamingTV : ['No' 'No internet service' 'Yes']\n",
      "StreamingMovies : ['No' 'No internet service' 'Yes']\n",
      "Contract : ['Month-to-month' 'One year' 'Two year']\n",
      "PaymentMethod : ['Bank transfer (automatic)' 'Credit card (automatic)' 'Electronic check'\n",
      " 'Mailed check']\n"
     ]
    }
   ],
   "source": [
    "# For columns with 3 or 4 unique values, display them to see if they make sense\n",
    "for col in ['MultipleLines', 'InternetService', 'OnlineSecurity', 'OnlineBackup', 'DeviceProtection', 'TechSupport', 'StreamingTV', 'StreamingMovies', 'Contract', \"PaymentMethod\"]:\n",
    "    print(\"{} : {}\".format(col, np.unique(data[col].values)))"
   ]
  },
  {
   "cell_type": "markdown",
   "metadata": {},
   "source": [
    "**Observations**\n",
    "\n",
    "- The value 'No phone service' found in MultipleLines is already captured by the PhoneService feature ('No' value)\n",
    "- The value 'No internet service' found in the several features is already captured by InternetService feature ('No' value)\n",
    "- Values that are longer or more complex may need to be simplified.\n",
    "\n",
    "Conclusion: These values can be considered duplicated information as they are found in the PhoneService and InternetService features. There are several options to consider here:\n",
    "\n",
    "- Retain all features and values as is\n",
    "- Convert the 'No Internet Service'/'No phone service' to 'No' in the features as PhoneService and InternetService features has already captured this information\n",
    "- Remove the PhoneService feature as MultipleLines feature has this information. To remove the InternetService feature, we would have to 'fold in' the values in the other features e.g. the values for OnlineSecurity could be changed to ['DSL_No','DSL_Yes','FiberOptic_No','FiberOptic_Yes','No internet service']\n",
    "\n",
    "For this course, we will be using the second option (without justification). You are encouraged to test the others options during modelling to see if there are any impact."
   ]
  },
  {
   "cell_type": "markdown",
   "metadata": {},
   "source": [
    "### Data Wrangling\n",
    "\n",
    "Based on the discoveries made above, we will be modifying our data before continuing the exploration."
   ]
  },
  {
   "cell_type": "code",
   "execution_count": 21,
   "metadata": {},
   "outputs": [],
   "source": [
    "# Replace 'No phone service'\n",
    "data['MultipleLines'] = data['MultipleLines'].replace({'No phone service':'No'})"
   ]
  },
  {
   "cell_type": "code",
   "execution_count": 23,
   "metadata": {},
   "outputs": [],
   "source": [
    "# TASK: Replace 'No internet service'\n",
    "for col in ['OnlineSecurity', 'OnlineBackup', 'DeviceProtection', 'TechSupport', 'StreamingTV', 'StreamingMovies']:\n",
    "    data[col] = data[col].replace({\"No internet service\": \"No\"})\n",
    "    # similar to the operation for 'No phone service' above"
   ]
  },
  {
   "cell_type": "code",
   "execution_count": 24,
   "metadata": {},
   "outputs": [],
   "source": [
    "# Simplify the values made up of phrases\n",
    "data['PaymentMethod'] = data['PaymentMethod'].replace({\n",
    "    'Bank transfer (automatic)':'transfer',\n",
    "    'Credit card (automatic)':'creditcard',\n",
    "    'Electronic check':'echeck',\n",
    "    'Mailed check':'mcheck'\n",
    "})\n",
    "\n",
    "data['InternetService'] = data['InternetService'].replace({\n",
    "    'Fiber optic':'FiberOptic'\n",
    "})\n",
    "\n",
    "data['Contract'] = data['Contract'].replace({\n",
    "    'Month-to-month':'M2M',\n",
    "    'One year':'OneYear',\n",
    "    'Two year':'TwoYear'\n",
    "})"
   ]
  },
  {
   "cell_type": "code",
   "execution_count": 25,
   "metadata": {},
   "outputs": [],
   "source": [
    "# Remove the rows with empty TotalCharges value\n",
    "data = data[data[\"TotalCharges\"].notnull()]"
   ]
  },
  {
   "cell_type": "code",
   "execution_count": 26,
   "metadata": {},
   "outputs": [
    {
     "name": "stdout",
     "output_type": "stream",
     "text": [
      "Rows & Columns: (7032, 21)\n",
      "################################################\n",
      "CustomerID          7032\n",
      "Gender                 2\n",
      "SeniorCitizen          2\n",
      "Partner                2\n",
      "Dependents             2\n",
      "TenureMonths          72\n",
      "PhoneService           2\n",
      "MultipleLines          2\n",
      "InternetService        3\n",
      "OnlineSecurity         2\n",
      "OnlineBackup           2\n",
      "DeviceProtection       2\n",
      "TechSupport            2\n",
      "StreamingTV            2\n",
      "StreamingMovies        2\n",
      "Contract               3\n",
      "PaperlessBilling       2\n",
      "PaymentMethod          4\n",
      "MonthlyCharges      1584\n",
      "TotalCharges        6530\n",
      "ChurnLabel             2\n",
      "dtype: int64\n",
      "################################################\n",
      "CustomerID           object\n",
      "Gender               object\n",
      "SeniorCitizen        object\n",
      "Partner              object\n",
      "Dependents           object\n",
      "TenureMonths          int64\n",
      "PhoneService         object\n",
      "MultipleLines        object\n",
      "InternetService      object\n",
      "OnlineSecurity       object\n",
      "OnlineBackup         object\n",
      "DeviceProtection     object\n",
      "TechSupport          object\n",
      "StreamingTV          object\n",
      "StreamingMovies      object\n",
      "Contract             object\n",
      "PaperlessBilling     object\n",
      "PaymentMethod        object\n",
      "MonthlyCharges      float64\n",
      "TotalCharges        float64\n",
      "ChurnLabel           object\n",
      "dtype: object\n",
      "################################################\n",
      "   CustomerID  Gender SeniorCitizen Partner Dependents  TenureMonths  \\\n",
      "0  3668-QPYBK    Male            No      No         No             2   \n",
      "1  9237-HQITU  Female            No      No        Yes             2   \n",
      "2  9305-CDSKC  Female            No      No        Yes             8   \n",
      "3  7892-POOKP  Female            No     Yes        Yes            28   \n",
      "4  0280-XJGEX    Male            No      No        Yes            49   \n",
      "\n",
      "  PhoneService MultipleLines InternetService OnlineSecurity  ...  \\\n",
      "0          Yes            No             DSL            Yes  ...   \n",
      "1          Yes            No      FiberOptic             No  ...   \n",
      "2          Yes           Yes      FiberOptic             No  ...   \n",
      "3          Yes           Yes      FiberOptic             No  ...   \n",
      "4          Yes           Yes      FiberOptic             No  ...   \n",
      "\n",
      "  DeviceProtection TechSupport StreamingTV StreamingMovies Contract  \\\n",
      "0               No          No          No              No      M2M   \n",
      "1               No          No          No              No      M2M   \n",
      "2              Yes          No         Yes             Yes      M2M   \n",
      "3              Yes         Yes         Yes             Yes      M2M   \n",
      "4              Yes          No         Yes             Yes      M2M   \n",
      "\n",
      "  PaperlessBilling PaymentMethod MonthlyCharges  TotalCharges  ChurnLabel  \n",
      "0              Yes        mcheck          53.85        108.15         Yes  \n",
      "1              Yes        echeck          70.70        151.65         Yes  \n",
      "2              Yes        echeck          99.65        820.50         Yes  \n",
      "3              Yes        echeck         104.80       3046.05         Yes  \n",
      "4              Yes      transfer         103.70       5036.30         Yes  \n",
      "\n",
      "[5 rows x 21 columns]\n"
     ]
    }
   ],
   "source": [
    "# After data wrangling, repeat prints\n",
    "print(\"Rows & Columns: {}\".format(data.shape))\n",
    "print(\"################################################\")\n",
    "# Number of unique values for each of the columns\n",
    "print(data.nunique())\n",
    "print(\"################################################\")\n",
    "# Check the data types\n",
    "print(data.dtypes)\n",
    "print(\"################################################\")\n",
    "# Display first few values\n",
    "print(data.head())"
   ]
  },
  {
   "cell_type": "code",
   "execution_count": 27,
   "metadata": {},
   "outputs": [
    {
     "name": "stdout",
     "output_type": "stream",
     "text": [
      "CustomerID          5693-PIPCS\n",
      "Gender                    Male\n",
      "SeniorCitizen               No\n",
      "Partner                     No\n",
      "Dependents                  No\n",
      "TenureMonths                41\n",
      "PhoneService               Yes\n",
      "MultipleLines               No\n",
      "InternetService     FiberOptic\n",
      "OnlineSecurity              No\n",
      "OnlineBackup               Yes\n",
      "DeviceProtection            No\n",
      "TechSupport                Yes\n",
      "StreamingTV                Yes\n",
      "StreamingMovies            Yes\n",
      "Contract               TwoYear\n",
      "PaperlessBilling           Yes\n",
      "PaymentMethod       creditcard\n",
      "MonthlyCharges           99.65\n",
      "TotalCharges           4220.35\n",
      "ChurnLabel                  No\n",
      "Name: 4534, dtype: object\n"
     ]
    }
   ],
   "source": [
    "# Randomly display 1 row from the dataframe\n",
    "print(data.sample(n=1).iloc[0])"
   ]
  },
  {
   "cell_type": "code",
   "execution_count": 29,
   "metadata": {},
   "outputs": [],
   "source": [
    "# TASK: Save the data as a CSV fiile\n",
    "data.to_csv(\"telco_churn.csv\", index=False)"
   ]
  },
  {
   "cell_type": "markdown",
   "metadata": {},
   "source": [
    "### Additional Exploration\n",
    "\n",
    "**TASK:** This is the open-ended section of the exercise. Use any exploration techniques that you know to further explore and understand your data. We expect a number of visualizations that can show the relationships between features as well as between features and the outcome variable 'ChurnLabel'. Some of the questions in the quiz may require you to perform additional analyses."
   ]
  },
  {
   "cell_type": "code",
   "execution_count": null,
   "metadata": {},
   "outputs": [],
   "source": [
    "# Example: Look at Churn vs MonthCharges\n",
    "plt.clf()\n",
    "for label in ['Yes','No']:\n",
    "    subset = data[data.ChurnLabel==label]\n",
    "    \n",
    "    # Draw the density plot\n",
    "    sns.distplot(subset['MonthlyCharges'], hist = False, kde = True,\n",
    "                 kde_kws = {'linewidth': 3, 'shade':True},\n",
    "                 label = label)\n",
    "    \n",
    "# Plot formatting\n",
    "plt.legend(prop={'size': 16}, title = 'ChurnLabel')\n",
    "plt.title('Density Plot with ChurnLabel')\n",
    "plt.xlabel('') # Monthly Charges\n",
    "plt.ylabel('Density')\n",
    "plt.show()"
   ]
  },
  {
   "cell_type": "code",
   "execution_count": null,
   "metadata": {},
   "outputs": [],
   "source": [
    "# Additional Exploration"
   ]
  }
 ],
 "metadata": {
  "kernelspec": {
   "display_name": "Python 3",
   "language": "python",
   "name": "python3"
  },
  "language_info": {
   "codemirror_mode": {
    "name": "ipython",
    "version": 3
   },
   "file_extension": ".py",
   "mimetype": "text/x-python",
   "name": "python",
   "nbconvert_exporter": "python",
   "pygments_lexer": "ipython3",
   "version": "3.8.8"
  }
 },
 "nbformat": 4,
 "nbformat_minor": 4
}
